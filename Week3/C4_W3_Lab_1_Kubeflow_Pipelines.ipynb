{
  "cells": [
    {
      "cell_type": "markdown",
      "metadata": {
        "id": "view-in-github",
        "colab_type": "text"
      },
      "source": [
        "<a href=\"https://colab.research.google.com/github/ajgquional/Coursera_Deploying-ML-Models-in-Prod/blob/main/C4_W3_Lab_1_Kubeflow_Pipelines.ipynb\" target=\"_parent\"><img src=\"https://colab.research.google.com/assets/colab-badge.svg\" alt=\"Open In Colab\"/></a>"
      ]
    },
    {
      "cell_type": "markdown",
      "metadata": {
        "id": "BE97DJ2_2gYM"
      },
      "source": [
        "# Ungraded Lab: Building ML Pipelines with Kubeflow"
      ]
    },
    {
      "cell_type": "markdown",
      "metadata": {
        "id": "EzUU3ZPtib8K"
      },
      "source": [
        "In this lab, you will have some hands-on practice with [Kubeflow Pipelines](https://www.kubeflow.org/docs/components/pipelines/overview/pipelines-overview/). As mentioned in the lectures, modern ML engineering is moving towards pipeline automation for rapid iteration and experiment tracking. This is especially useful in production deployments where models need to be frequently retrained to catch trends in newer data.\n",
        "\n",
        "Kubeflow Pipelines is one component of the [Kubeflow](https://www.kubeflow.org/) suite of tools for machine learning workflows. It is deployed on top of a Kubernetes cluster and builds an infrastructure for orchestrating ML pipelines and monitoring inputs and outputs of each component. You will use this tool in Google Cloud Platform in the first assignment this week and this lab will help prepare you for that by exploring its features on a local deployment. In particular, you will:\n",
        "\n",
        "* setup [Kubeflow Pipelines](https://www.kubeflow.org/docs/components/pipelines/overview/pipelines-overview/) in your local workstation\n",
        "* get familiar with the Kubeflow Pipelines UI\n",
        "* build pipeline components with Python and the Kubeflow Pipelines SDK\n",
        "* run an ML pipeline with Kubeflow Pipelines\n",
        "\n",
        "Let's begin!"
      ]
    },
    {
      "cell_type": "markdown",
      "metadata": {
        "id": "uOZgYS16iqAo"
      },
      "source": [
        "## Setup\n",
        "\n",
        "You will need these tool installed in your local machine to complete the exercises:\n",
        "\n",
        "1. Docker - platform for building and running containerized applications. You should already have this installed from the previous ungraded labs. If not, you can see the instructions [here](https://docs.docker.com/get-docker/). If you are using Docker for Desktop (Mac or Windows), you may need to increase the resource limits to start Kubeflow Pipelines later. You can click on the Docker icon in your Task Bar, choose `Preferences` and adjust the CPU to 4, Storage to 50GB, and the memory to at least 4GB (8GB recommended). Just make sure you are not maxing out any of these limits (i.e. the slider should ideally be at the midpoint or less) since it can make your machine slow or unresponsive. If you're constrained on resources, don't worry. You can still use this notebook as reference since we'll show the expected outputs at each step. The important thing is to become familiar with this Kubeflow Pipelines before you get more hands-on in the assignment.\n",
        "\n",
        "2. kubectl - tool for running commands on Kubernetes clusters. This should also be installed from the previous labs. If not, please see the instructions [here](https://kubernetes.io/docs/tasks/tools/)\n",
        "\n",
        "3. [kind](https://kind.sigs.k8s.io/) - a Kubernetes distribution for running local clusters using Docker. Please follow the instructions [here](https://www.kubeflow.org/docs/components/pipelines/installation/localcluster-deployment/#kind) to install kind and create a local cluster. (**NOTE: This lab was tested using `kind v0.20` running `Kubernetes v1.27.2`. You can check the default Kubernetes image used by the `kind` version you are about to download in the \"Breaking Changes\" section [here](https://github.com/kubernetes-sigs/kind/releases). If you want to use the same image, you can use the `--image` flag when creating the cluster (e.g. `kind create cluster --image=kindest/node:v1.27.2`). After creating the cluster, you can check the Kubernetes version with the command `kubectl version`.**)\n",
        "\n",
        "4. Kubeflow Pipelines (KFP) - a platform for building and deploying portable, scalable machine learning (ML) workflows based on Docker containers. Once you've created a local cluster using `kind`, you can deploy Kubeflow Pipelines with these commands. (**NOTE: This lab was tested using KFP v1.8.5 with SDK v1.8.22**).\n",
        "\n",
        "```\n",
        "export PIPELINE_VERSION=1.8.5\n",
        "kubectl apply -k \"github.com/kubeflow/pipelines/manifests/kustomize/cluster-scoped-resources?ref=$PIPELINE_VERSION\"\n",
        "kubectl wait --for condition=established --timeout=300s crd/applications.app.k8s.io\n",
        "kubectl apply -k \"github.com/kubeflow/pipelines/manifests/kustomize/env/platform-agnostic-pns?ref=$PIPELINE_VERSION\"\n",
        "```\n",
        "\n",
        "You can  enter the commands above one line at a time. These will setup all the deployments and spin up the pods for the entire application. These will be found in the `kubeflow` namespace. After sending the last command, it will take a moment (around 30 minutes) for all the deployments to be ready. You can send the command `kubectl get deploy -n kubeflow` a few times to check the status. You should see all deployments with the `READY` status before you can proceed to the next section.\n",
        "\n",
        "```\n",
        "NAME                              READY   UP-TO-DATE   AVAILABLE   AGE\n",
        "cache-deployer-deployment         1/1     1            1           21h\n",
        "cache-server                      1/1     1            1           21h\n",
        "metadata-envoy-deployment         1/1     1            1           21h\n",
        "metadata-grpc-deployment          1/1     1            1           21h\n",
        "metadata-writer                   1/1     1            1           21h\n",
        "minio                             1/1     1            1           21h\n",
        "ml-pipeline                       1/1     1            1           21h\n",
        "ml-pipeline-persistenceagent      1/1     1            1           21h\n",
        "ml-pipeline-scheduledworkflow     1/1     1            1           21h\n",
        "ml-pipeline-ui                    1/1     1            1           21h\n",
        "ml-pipeline-viewer-crd            1/1     1            1           21h\n",
        "ml-pipeline-visualizationserver   1/1     1            1           21h\n",
        "mysql                             1/1     1            1           21h\n",
        "workflow-controller               1/1     1            1           21h\n",
        "```\n",
        "\n",
        "When everything is ready, you can run the following command to access the `ml-pipeline-ui` service.\n",
        "\n",
        "```\n",
        "kubectl port-forward -n kubeflow svc/ml-pipeline-ui 8080:80\n",
        "```\n",
        "\n",
        "The terminal should respond with something like this:\n",
        "\n",
        "```\n",
        "Forwarding from 127.0.0.1:8080 -> 3000\n",
        "Forwarding from [::1]:8080 -> 3000\n",
        "```\n",
        "\n",
        "You can then open your browser and go to `http://localhost:8080` to see the user interface.\n",
        "\n",
        "<img src=\"https://github.com/https-deeplearning-ai/machine-learning-engineering-for-production-public/blob/main/course4/week3-ungraded-labs/C4_W3_Lab_1_Intro_to_KFP/img/kfp_ui.png?raw=1\" alt=\"kfp ui\">"
      ]
    },
    {
      "cell_type": "markdown",
      "metadata": {
        "id": "LbEdKUHBvLdi"
      },
      "source": [
        "## Operationalizing your ML Pipelines\n",
        "\n",
        "As you know, generating a trained model involves executing a sequence of steps. Here is a high level overview of what these steps might look like:\n",
        "\n",
        "<img src=\"https://github.com/https-deeplearning-ai/machine-learning-engineering-for-production-public/blob/main/course4/week3-ungraded-labs/C4_W3_Lab_1_Intro_to_KFP/img/highlevel.jpg?raw=1\" alt=\"highlevel.jpg\">\n",
        "\n",
        "You can recall the very first model you ever built and more likely than not, your code then also followed a similar flow. In essence, building an ML pipeline mainly involves implementing these steps but you will need to optimize your operations to deliver value to your team. Platforms such as Kubeflow helps you to build ML pipelines that can be automated, reproducible, and easily monitored. You will see these as you build your pipeline in the next sections below."
      ]
    },
    {
      "cell_type": "markdown",
      "metadata": {
        "id": "pWrq6Ean7ZVE"
      },
      "source": [
        "### Pipeline components\n",
        "\n",
        "The main building blocks of your ML pipeline are referred to as [components](https://www.kubeflow.org/docs/components/pipelines/overview/concepts/component/). In the context of Kubeflow, these are containerized applications that run a specific task in the pipeline. Moreover, these components generate and consume *artifacts* from other components. For example, a download task will generate a dataset artifact and this will be consumed by a data splitting task. If you go back to the simple pipeline image above and describe it using tasks and artifacts, it will look something like this:\n",
        "\n",
        "<img src=\"https://github.com/https-deeplearning-ai/machine-learning-engineering-for-production-public/blob/main/course4/week3-ungraded-labs/C4_W3_Lab_1_Intro_to_KFP/img/simple_dag.jpg?raw=1\" alt=\"img/simple_dag.jpg\">\n",
        "\n",
        "This relationship between tasks and their artifacts are what constitutes a pipeline and is also called a [directed acyclic graph (DAG)](https://en.wikipedia.org/wiki/Directed_acyclic_graph).\n",
        "\n",
        "Kubeflow Pipelines let's you create components either by [building the component specification directly](https://www.kubeflow.org/docs/components/pipelines/sdk/component-development/#component-spec) or through [Python functions](https://www.kubeflow.org/docs/components/pipelines/sdk/python-function-components/). For this lab, you will use the latter since it is more intuitive and allows for quick iteration. As you gain more experience, you can explore building the component specification directly especially if you want to use different languages other than Python.\n",
        "\n",
        "You will begin by installing the Kubeflow Pipelines SDK."
      ]
    },
    {
      "cell_type": "code",
      "execution_count": null,
      "metadata": {
        "id": "4IvRt6wC2n8Y",
        "colab": {
          "base_uri": "https://localhost:8080/",
          "height": 1000
        },
        "outputId": "8101a027-d3f0-425b-8124-2398693aa943"
      },
      "outputs": [
        {
          "output_type": "stream",
          "name": "stdout",
          "text": [
            "Collecting kfp==1.8.22\n",
            "  Downloading kfp-1.8.22.tar.gz (304 kB)\n",
            "\u001b[?25l     \u001b[90m━━━━━━━━━━━━━━━━━━━━━━━━━━━━━━━━━━━━━━━━\u001b[0m \u001b[32m0.0/304.9 kB\u001b[0m \u001b[31m?\u001b[0m eta \u001b[36m-:--:--\u001b[0m\r\u001b[2K     \u001b[91m━━━━━━━━━━━━━━━━━━━━━━━━━━\u001b[0m\u001b[91m╸\u001b[0m\u001b[90m━━━━━━━━━━━━━\u001b[0m \u001b[32m204.8/304.9 kB\u001b[0m \u001b[31m6.0 MB/s\u001b[0m eta \u001b[36m0:00:01\u001b[0m\r\u001b[2K     \u001b[90m━━━━━━━━━━━━━━━━━━━━━━━━━━━━━━━━━━━━━━━━\u001b[0m \u001b[32m304.9/304.9 kB\u001b[0m \u001b[31m5.0 MB/s\u001b[0m eta \u001b[36m0:00:00\u001b[0m\n",
            "\u001b[?25h  Preparing metadata (setup.py) ... \u001b[?25l\u001b[?25hdone\n",
            "Requirement already satisfied: absl-py<2,>=0.9 in /usr/local/lib/python3.11/dist-packages (from kfp==1.8.22) (1.4.0)\n",
            "Requirement already satisfied: PyYAML<7,>=5.3 in /usr/local/lib/python3.11/dist-packages (from kfp==1.8.22) (6.0.2)\n",
            "Requirement already satisfied: google-api-core!=2.0.*,!=2.1.*,!=2.2.*,!=2.3.0,<3.0.0dev,>=1.31.5 in /usr/local/lib/python3.11/dist-packages (from kfp==1.8.22) (2.24.2)\n",
            "Requirement already satisfied: google-cloud-storage<3,>=1.20.0 in /usr/local/lib/python3.11/dist-packages (from kfp==1.8.22) (2.19.0)\n",
            "Collecting kubernetes<26,>=8.0.0 (from kfp==1.8.22)\n",
            "  Downloading kubernetes-25.3.0-py2.py3-none-any.whl.metadata (1.5 kB)\n",
            "Collecting google-api-python-client<2,>=1.7.8 (from kfp==1.8.22)\n",
            "  Downloading google_api_python_client-1.12.11-py2.py3-none-any.whl.metadata (4.2 kB)\n",
            "Requirement already satisfied: google-auth<3,>=1.6.1 in /usr/local/lib/python3.11/dist-packages (from kfp==1.8.22) (2.38.0)\n",
            "Collecting requests-toolbelt<1,>=0.8.0 (from kfp==1.8.22)\n",
            "  Downloading requests_toolbelt-0.10.1-py2.py3-none-any.whl.metadata (14 kB)\n",
            "Collecting cloudpickle<3,>=2.0.0 (from kfp==1.8.22)\n",
            "  Downloading cloudpickle-2.2.1-py3-none-any.whl.metadata (6.9 kB)\n",
            "Collecting kfp-server-api<2.0.0,>=1.1.2 (from kfp==1.8.22)\n",
            "  Downloading kfp-server-api-1.8.5.tar.gz (58 kB)\n",
            "\u001b[2K     \u001b[90m━━━━━━━━━━━━━━━━━━━━━━━━━━━━━━━━━━━━━━━━\u001b[0m \u001b[32m58.1/58.1 kB\u001b[0m \u001b[31m3.0 MB/s\u001b[0m eta \u001b[36m0:00:00\u001b[0m\n",
            "\u001b[?25h  Preparing metadata (setup.py) ... \u001b[?25l\u001b[?25hdone\n",
            "Requirement already satisfied: jsonschema<5,>=3.0.1 in /usr/local/lib/python3.11/dist-packages (from kfp==1.8.22) (4.23.0)\n",
            "Requirement already satisfied: tabulate<1,>=0.8.6 in /usr/local/lib/python3.11/dist-packages (from kfp==1.8.22) (0.9.0)\n",
            "Requirement already satisfied: click<9,>=7.1.2 in /usr/local/lib/python3.11/dist-packages (from kfp==1.8.22) (8.1.8)\n",
            "Requirement already satisfied: Deprecated<2,>=1.2.7 in /usr/local/lib/python3.11/dist-packages (from kfp==1.8.22) (1.2.18)\n",
            "Collecting strip-hints<1,>=0.1.8 (from kfp==1.8.22)\n",
            "  Downloading strip_hints-0.1.13-py3-none-any.whl.metadata (11 kB)\n",
            "Requirement already satisfied: docstring-parser<1,>=0.7.3 in /usr/local/lib/python3.11/dist-packages (from kfp==1.8.22) (0.16)\n",
            "Collecting kfp-pipeline-spec<0.2.0,>=0.1.16 (from kfp==1.8.22)\n",
            "  Downloading kfp_pipeline_spec-0.1.16-py3-none-any.whl.metadata (323 bytes)\n",
            "Collecting fire<1,>=0.3.1 (from kfp==1.8.22)\n",
            "  Downloading fire-0.7.0.tar.gz (87 kB)\n",
            "\u001b[2K     \u001b[90m━━━━━━━━━━━━━━━━━━━━━━━━━━━━━━━━━━━━━━━━\u001b[0m \u001b[32m87.2/87.2 kB\u001b[0m \u001b[31m4.8 MB/s\u001b[0m eta \u001b[36m0:00:00\u001b[0m\n",
            "\u001b[?25h  Preparing metadata (setup.py) ... \u001b[?25l\u001b[?25hdone\n",
            "Collecting protobuf<4,>=3.13.0 (from kfp==1.8.22)\n",
            "  Downloading protobuf-3.20.3-py2.py3-none-any.whl.metadata (720 bytes)\n",
            "Collecting uritemplate<4,>=3.0.1 (from kfp==1.8.22)\n",
            "  Downloading uritemplate-3.0.1-py2.py3-none-any.whl.metadata (4.6 kB)\n",
            "Collecting urllib3<2 (from kfp==1.8.22)\n",
            "  Downloading urllib3-1.26.20-py2.py3-none-any.whl.metadata (50 kB)\n",
            "\u001b[2K     \u001b[90m━━━━━━━━━━━━━━━━━━━━━━━━━━━━━━━━━━━━━━━━\u001b[0m \u001b[32m50.1/50.1 kB\u001b[0m \u001b[31m2.7 MB/s\u001b[0m eta \u001b[36m0:00:00\u001b[0m\n",
            "\u001b[?25hCollecting pydantic<2,>=1.8.2 (from kfp==1.8.22)\n",
            "  Downloading pydantic-1.10.21-cp311-cp311-manylinux_2_17_x86_64.manylinux2014_x86_64.whl.metadata (153 kB)\n",
            "\u001b[2K     \u001b[90m━━━━━━━━━━━━━━━━━━━━━━━━━━━━━━━━━━━━━━━━\u001b[0m \u001b[32m153.9/153.9 kB\u001b[0m \u001b[31m5.7 MB/s\u001b[0m eta \u001b[36m0:00:00\u001b[0m\n",
            "\u001b[?25hRequirement already satisfied: typer<1.0,>=0.3.2 in /usr/local/lib/python3.11/dist-packages (from kfp==1.8.22) (0.15.2)\n",
            "Requirement already satisfied: wrapt<2,>=1.10 in /usr/local/lib/python3.11/dist-packages (from Deprecated<2,>=1.2.7->kfp==1.8.22) (1.17.2)\n",
            "Requirement already satisfied: termcolor in /usr/local/lib/python3.11/dist-packages (from fire<1,>=0.3.1->kfp==1.8.22) (3.0.1)\n",
            "Requirement already satisfied: googleapis-common-protos<2.0.0,>=1.56.2 in /usr/local/lib/python3.11/dist-packages (from google-api-core!=2.0.*,!=2.1.*,!=2.2.*,!=2.3.0,<3.0.0dev,>=1.31.5->kfp==1.8.22) (1.69.2)\n",
            "Requirement already satisfied: proto-plus<2.0.0,>=1.22.3 in /usr/local/lib/python3.11/dist-packages (from google-api-core!=2.0.*,!=2.1.*,!=2.2.*,!=2.3.0,<3.0.0dev,>=1.31.5->kfp==1.8.22) (1.26.1)\n",
            "Requirement already satisfied: requests<3.0.0,>=2.18.0 in /usr/local/lib/python3.11/dist-packages (from google-api-core!=2.0.*,!=2.1.*,!=2.2.*,!=2.3.0,<3.0.0dev,>=1.31.5->kfp==1.8.22) (2.32.3)\n",
            "Requirement already satisfied: httplib2<1dev,>=0.15.0 in /usr/local/lib/python3.11/dist-packages (from google-api-python-client<2,>=1.7.8->kfp==1.8.22) (0.22.0)\n",
            "Requirement already satisfied: google-auth-httplib2>=0.0.3 in /usr/local/lib/python3.11/dist-packages (from google-api-python-client<2,>=1.7.8->kfp==1.8.22) (0.2.0)\n",
            "Requirement already satisfied: six<2dev,>=1.13.0 in /usr/local/lib/python3.11/dist-packages (from google-api-python-client<2,>=1.7.8->kfp==1.8.22) (1.17.0)\n",
            "Requirement already satisfied: cachetools<6.0,>=2.0.0 in /usr/local/lib/python3.11/dist-packages (from google-auth<3,>=1.6.1->kfp==1.8.22) (5.5.2)\n",
            "Requirement already satisfied: pyasn1-modules>=0.2.1 in /usr/local/lib/python3.11/dist-packages (from google-auth<3,>=1.6.1->kfp==1.8.22) (0.4.2)\n",
            "Requirement already satisfied: rsa<5,>=3.1.4 in /usr/local/lib/python3.11/dist-packages (from google-auth<3,>=1.6.1->kfp==1.8.22) (4.9)\n",
            "Requirement already satisfied: google-cloud-core<3.0dev,>=2.3.0 in /usr/local/lib/python3.11/dist-packages (from google-cloud-storage<3,>=1.20.0->kfp==1.8.22) (2.4.3)\n",
            "Requirement already satisfied: google-resumable-media>=2.7.2 in /usr/local/lib/python3.11/dist-packages (from google-cloud-storage<3,>=1.20.0->kfp==1.8.22) (2.7.2)\n",
            "Requirement already satisfied: google-crc32c<2.0dev,>=1.0 in /usr/local/lib/python3.11/dist-packages (from google-cloud-storage<3,>=1.20.0->kfp==1.8.22) (1.7.1)\n",
            "Requirement already satisfied: attrs>=22.2.0 in /usr/local/lib/python3.11/dist-packages (from jsonschema<5,>=3.0.1->kfp==1.8.22) (25.3.0)\n",
            "Requirement already satisfied: jsonschema-specifications>=2023.03.6 in /usr/local/lib/python3.11/dist-packages (from jsonschema<5,>=3.0.1->kfp==1.8.22) (2024.10.1)\n",
            "Requirement already satisfied: referencing>=0.28.4 in /usr/local/lib/python3.11/dist-packages (from jsonschema<5,>=3.0.1->kfp==1.8.22) (0.36.2)\n",
            "Requirement already satisfied: rpds-py>=0.7.1 in /usr/local/lib/python3.11/dist-packages (from jsonschema<5,>=3.0.1->kfp==1.8.22) (0.24.0)\n",
            "Requirement already satisfied: certifi in /usr/local/lib/python3.11/dist-packages (from kfp-server-api<2.0.0,>=1.1.2->kfp==1.8.22) (2025.1.31)\n",
            "Requirement already satisfied: python-dateutil in /usr/local/lib/python3.11/dist-packages (from kfp-server-api<2.0.0,>=1.1.2->kfp==1.8.22) (2.8.2)\n",
            "Requirement already satisfied: setuptools>=21.0.0 in /usr/local/lib/python3.11/dist-packages (from kubernetes<26,>=8.0.0->kfp==1.8.22) (75.2.0)\n",
            "Requirement already satisfied: websocket-client!=0.40.0,!=0.41.*,!=0.42.*,>=0.32.0 in /usr/local/lib/python3.11/dist-packages (from kubernetes<26,>=8.0.0->kfp==1.8.22) (1.8.0)\n",
            "Requirement already satisfied: requests-oauthlib in /usr/local/lib/python3.11/dist-packages (from kubernetes<26,>=8.0.0->kfp==1.8.22) (2.0.0)\n",
            "Requirement already satisfied: typing-extensions>=4.2.0 in /usr/local/lib/python3.11/dist-packages (from pydantic<2,>=1.8.2->kfp==1.8.22) (4.13.1)\n",
            "Requirement already satisfied: wheel in /usr/local/lib/python3.11/dist-packages (from strip-hints<1,>=0.1.8->kfp==1.8.22) (0.45.1)\n",
            "Requirement already satisfied: shellingham>=1.3.0 in /usr/local/lib/python3.11/dist-packages (from typer<1.0,>=0.3.2->kfp==1.8.22) (1.5.4)\n",
            "Requirement already satisfied: rich>=10.11.0 in /usr/local/lib/python3.11/dist-packages (from typer<1.0,>=0.3.2->kfp==1.8.22) (13.9.4)\n",
            "Requirement already satisfied: pyparsing!=3.0.0,!=3.0.1,!=3.0.2,!=3.0.3,<4,>=2.4.2 in /usr/local/lib/python3.11/dist-packages (from httplib2<1dev,>=0.15.0->google-api-python-client<2,>=1.7.8->kfp==1.8.22) (3.2.3)\n",
            "Requirement already satisfied: pyasn1<0.7.0,>=0.6.1 in /usr/local/lib/python3.11/dist-packages (from pyasn1-modules>=0.2.1->google-auth<3,>=1.6.1->kfp==1.8.22) (0.6.1)\n",
            "Requirement already satisfied: charset-normalizer<4,>=2 in /usr/local/lib/python3.11/dist-packages (from requests<3.0.0,>=2.18.0->google-api-core!=2.0.*,!=2.1.*,!=2.2.*,!=2.3.0,<3.0.0dev,>=1.31.5->kfp==1.8.22) (3.4.1)\n",
            "Requirement already satisfied: idna<4,>=2.5 in /usr/local/lib/python3.11/dist-packages (from requests<3.0.0,>=2.18.0->google-api-core!=2.0.*,!=2.1.*,!=2.2.*,!=2.3.0,<3.0.0dev,>=1.31.5->kfp==1.8.22) (3.10)\n",
            "Requirement already satisfied: markdown-it-py>=2.2.0 in /usr/local/lib/python3.11/dist-packages (from rich>=10.11.0->typer<1.0,>=0.3.2->kfp==1.8.22) (3.0.0)\n",
            "Requirement already satisfied: pygments<3.0.0,>=2.13.0 in /usr/local/lib/python3.11/dist-packages (from rich>=10.11.0->typer<1.0,>=0.3.2->kfp==1.8.22) (2.18.0)\n",
            "Requirement already satisfied: oauthlib>=3.0.0 in /usr/local/lib/python3.11/dist-packages (from requests-oauthlib->kubernetes<26,>=8.0.0->kfp==1.8.22) (3.2.2)\n",
            "Requirement already satisfied: mdurl~=0.1 in /usr/local/lib/python3.11/dist-packages (from markdown-it-py>=2.2.0->rich>=10.11.0->typer<1.0,>=0.3.2->kfp==1.8.22) (0.1.2)\n",
            "Downloading cloudpickle-2.2.1-py3-none-any.whl (25 kB)\n",
            "Downloading google_api_python_client-1.12.11-py2.py3-none-any.whl (62 kB)\n",
            "\u001b[2K   \u001b[90m━━━━━━━━━━━━━━━━━━━━━━━━━━━━━━━━━━━━━━━━\u001b[0m \u001b[32m62.1/62.1 kB\u001b[0m \u001b[31m3.7 MB/s\u001b[0m eta \u001b[36m0:00:00\u001b[0m\n",
            "\u001b[?25hDownloading kfp_pipeline_spec-0.1.16-py3-none-any.whl (19 kB)\n",
            "Downloading kubernetes-25.3.0-py2.py3-none-any.whl (1.4 MB)\n",
            "\u001b[2K   \u001b[90m━━━━━━━━━━━━━━━━━━━━━━━━━━━━━━━━━━━━━━━━\u001b[0m \u001b[32m1.4/1.4 MB\u001b[0m \u001b[31m29.5 MB/s\u001b[0m eta \u001b[36m0:00:00\u001b[0m\n",
            "\u001b[?25hDownloading protobuf-3.20.3-py2.py3-none-any.whl (162 kB)\n",
            "\u001b[2K   \u001b[90m━━━━━━━━━━━━━━━━━━━━━━━━━━━━━━━━━━━━━━━━\u001b[0m \u001b[32m162.1/162.1 kB\u001b[0m \u001b[31m10.5 MB/s\u001b[0m eta \u001b[36m0:00:00\u001b[0m\n",
            "\u001b[?25hDownloading pydantic-1.10.21-cp311-cp311-manylinux_2_17_x86_64.manylinux2014_x86_64.whl (3.1 MB)\n",
            "\u001b[2K   \u001b[90m━━━━━━━━━━━━━━━━━━━━━━━━━━━━━━━━━━━━━━━━\u001b[0m \u001b[32m3.1/3.1 MB\u001b[0m \u001b[31m54.7 MB/s\u001b[0m eta \u001b[36m0:00:00\u001b[0m\n",
            "\u001b[?25hDownloading requests_toolbelt-0.10.1-py2.py3-none-any.whl (54 kB)\n",
            "\u001b[2K   \u001b[90m━━━━━━━━━━━━━━━━━━━━━━━━━━━━━━━━━━━━━━━━\u001b[0m \u001b[32m54.5/54.5 kB\u001b[0m \u001b[31m3.3 MB/s\u001b[0m eta \u001b[36m0:00:00\u001b[0m\n",
            "\u001b[?25hDownloading strip_hints-0.1.13-py3-none-any.whl (23 kB)\n",
            "Downloading uritemplate-3.0.1-py2.py3-none-any.whl (15 kB)\n",
            "Downloading urllib3-1.26.20-py2.py3-none-any.whl (144 kB)\n",
            "\u001b[2K   \u001b[90m━━━━━━━━━━━━━━━━━━━━━━━━━━━━━━━━━━━━━━━━\u001b[0m \u001b[32m144.2/144.2 kB\u001b[0m \u001b[31m8.7 MB/s\u001b[0m eta \u001b[36m0:00:00\u001b[0m\n",
            "\u001b[?25hBuilding wheels for collected packages: kfp, fire, kfp-server-api\n",
            "  Building wheel for kfp (setup.py) ... \u001b[?25l\u001b[?25hdone\n",
            "  Created wheel for kfp: filename=kfp-1.8.22-py3-none-any.whl size=426962 sha256=c904a44c845fda1506400f1c2122853973fe5ef4af965b0d70b0aa3db45ac8cb\n",
            "  Stored in directory: /root/.cache/pip/wheels/24/99/54/2b4967f064beccc516ee7b2ebc0d01f6ed639eb4c0168d578a\n",
            "  Building wheel for fire (setup.py) ... \u001b[?25l\u001b[?25hdone\n",
            "  Created wheel for fire: filename=fire-0.7.0-py3-none-any.whl size=114249 sha256=3032908f082b1ae177dafb0ad4b89ef0d6fca3f764bd53531302170154ddc0f5\n",
            "  Stored in directory: /root/.cache/pip/wheels/46/54/24/1624fd5b8674eb1188623f7e8e17cdf7c0f6c24b609dfb8a89\n",
            "  Building wheel for kfp-server-api (setup.py) ... \u001b[?25l\u001b[?25hdone\n",
            "  Created wheel for kfp-server-api: filename=kfp_server_api-1.8.5-py3-none-any.whl size=99696 sha256=0f6bd63e9366aaf3318dc5f7415badaa4588eed0aab59c6623a59e920d377e60\n",
            "  Stored in directory: /root/.cache/pip/wheels/26/f6/32/58d87a10d65afb7acee5993e913b3663463f04dab850b904b7\n",
            "Successfully built kfp fire kfp-server-api\n",
            "Installing collected packages: urllib3, uritemplate, strip-hints, pydantic, protobuf, fire, cloudpickle, kfp-server-api, kfp-pipeline-spec, requests-toolbelt, kubernetes, google-api-python-client, kfp\n",
            "  Attempting uninstall: urllib3\n",
            "    Found existing installation: urllib3 2.3.0\n",
            "    Uninstalling urllib3-2.3.0:\n",
            "      Successfully uninstalled urllib3-2.3.0\n",
            "  Attempting uninstall: uritemplate\n",
            "    Found existing installation: uritemplate 4.1.1\n",
            "    Uninstalling uritemplate-4.1.1:\n",
            "      Successfully uninstalled uritemplate-4.1.1\n",
            "  Attempting uninstall: pydantic\n",
            "    Found existing installation: pydantic 2.11.2\n",
            "    Uninstalling pydantic-2.11.2:\n",
            "      Successfully uninstalled pydantic-2.11.2\n",
            "  Attempting uninstall: protobuf\n",
            "    Found existing installation: protobuf 5.29.4\n",
            "    Uninstalling protobuf-5.29.4:\n",
            "      Successfully uninstalled protobuf-5.29.4\n",
            "  Attempting uninstall: cloudpickle\n",
            "    Found existing installation: cloudpickle 3.1.1\n",
            "    Uninstalling cloudpickle-3.1.1:\n",
            "      Successfully uninstalled cloudpickle-3.1.1\n",
            "  Attempting uninstall: requests-toolbelt\n",
            "    Found existing installation: requests-toolbelt 1.0.0\n",
            "    Uninstalling requests-toolbelt-1.0.0:\n",
            "      Successfully uninstalled requests-toolbelt-1.0.0\n",
            "  Attempting uninstall: google-api-python-client\n",
            "    Found existing installation: google-api-python-client 2.164.0\n",
            "    Uninstalling google-api-python-client-2.164.0:\n",
            "      Successfully uninstalled google-api-python-client-2.164.0\n",
            "\u001b[31mERROR: pip's dependency resolver does not currently take into account all the packages that are installed. This behaviour is the source of the following dependency conflicts.\n",
            "google-genai 1.9.0 requires pydantic<3.0.0,>=2.0.0, but you have pydantic 1.10.21 which is incompatible.\n",
            "langchain-core 0.3.50 requires pydantic<3.0.0,>=2.5.2; python_full_version < \"3.12.4\", but you have pydantic 1.10.21 which is incompatible.\n",
            "langchain 0.3.22 requires pydantic<3.0.0,>=2.7.4, but you have pydantic 1.10.21 which is incompatible.\n",
            "tensorflow-metadata 1.17.0 requires protobuf<6.0.0,>=4.25.2; python_version >= \"3.11\", but you have protobuf 3.20.3 which is incompatible.\n",
            "albumentations 2.0.5 requires pydantic>=2.9.2, but you have pydantic 1.10.21 which is incompatible.\n",
            "langsmith 0.3.23 requires requests-toolbelt<2.0.0,>=1.0.0, but you have requests-toolbelt 0.10.1 which is incompatible.\n",
            "dask 2024.12.1 requires cloudpickle>=3.0.0, but you have cloudpickle 2.2.1 which is incompatible.\n",
            "grpcio-status 1.71.0 requires protobuf<6.0dev,>=5.26.1, but you have protobuf 3.20.3 which is incompatible.\n",
            "distributed 2024.12.1 requires cloudpickle>=3.0.0, but you have cloudpickle 2.2.1 which is incompatible.\u001b[0m\u001b[31m\n",
            "\u001b[0mSuccessfully installed cloudpickle-2.2.1 fire-0.7.0 google-api-python-client-1.12.11 kfp-1.8.22 kfp-pipeline-spec-0.1.16 kfp-server-api-1.8.5 kubernetes-25.3.0 protobuf-3.20.3 pydantic-1.10.21 requests-toolbelt-0.10.1 strip-hints-0.1.13 uritemplate-3.0.1 urllib3-1.26.20\n"
          ]
        },
        {
          "output_type": "display_data",
          "data": {
            "application/vnd.colab-display-data+json": {
              "pip_warning": {
                "packages": [
                  "google"
                ]
              },
              "id": "c2e1e5f526544e6b9517c93e5137386e"
            }
          },
          "metadata": {}
        }
      ],
      "source": [
        "# Install the KFP SDK\n",
        "!pip install --upgrade kfp==1.8.22"
      ]
    },
    {
      "cell_type": "markdown",
      "metadata": {
        "id": "DmZeOyVu8MyJ"
      },
      "source": [
        "Now you will import the modules you will be using to construct the Kubeflow pipeline. You will know more what these are for in the next sections."
      ]
    },
    {
      "cell_type": "code",
      "execution_count": null,
      "metadata": {
        "id": "cSt2DEJA2ttR"
      },
      "outputs": [],
      "source": [
        "# Import the modules you will use\n",
        "import kfp\n",
        "\n",
        "# For creating the pipeline\n",
        "from kfp.v2 import dsl\n",
        "\n",
        "# For building components\n",
        "from kfp.v2.dsl import component\n",
        "\n",
        "# Type annotations for the component artifacts\n",
        "from kfp.v2.dsl import (\n",
        "    Input,\n",
        "    Output,\n",
        "    Artifact,\n",
        "    Dataset,\n",
        "    Model,\n",
        "    Metrics\n",
        ")"
      ]
    },
    {
      "cell_type": "markdown",
      "metadata": {
        "id": "MV8AZsyW8ahR"
      },
      "source": [
        "In this lab, you will build a pipeline to train a multi-output model trained on the [Energy Efficiency dataset from the UCI Machine Learning Repository](https://archive.ics.uci.edu/ml/datasets/Energy+efficiency). It uses the bulding features (e.g. wall area, roof area) as inputs and has two outputs: Cooling Load and Heating Load. You will follow the five-task graph above with some slight differences in the generated artifacts.\n",
        "\n",
        "You will now build the component to load your data into the pipeline. The code is shown below and we will discuss the syntax in more detail after running it."
      ]
    },
    {
      "cell_type": "code",
      "execution_count": null,
      "metadata": {
        "id": "gT4SZtZM22Gc"
      },
      "outputs": [],
      "source": [
        "@component(\n",
        "    packages_to_install=[\"pandas\", \"openpyxl\"],\n",
        "    output_component_file=\"download_data_component.yaml\"\n",
        ")\n",
        "def download_data(url:str, output_csv:Output[Dataset]):\n",
        "    import pandas as pd\n",
        "\n",
        "    # Use pandas excel reader\n",
        "    df = pd.read_excel(url)\n",
        "    df = df.sample(frac=1).reset_index(drop=True)\n",
        "    df.to_csv(output_csv.path, index=False)"
      ]
    },
    {
      "cell_type": "markdown",
      "metadata": {
        "id": "UAa5GSbDaJpd"
      },
      "source": [
        "When building a component, it's good to determine first its inputs and outputs.\n",
        "\n",
        "* The dataset you want to download is an Excel file hosted by UCI [here](https://archive.ics.uci.edu/ml/machine-learning-databases/00242/ENB2012_data.xlsx) and you can load that using Pandas. Instead of hardcoding the URL in your code, you can design your function to accept an *input* string parameter so you can use other URLs in case the data has been transferred.\n",
        "\n",
        "* For the *output*, you will want to pass the downloaded dataset to the next task (i.e. data splitting). You should assign this as an `Output` type and specify what kind of artifact it is. Kubeflow provides [several of these](https://github.com/kubeflow/pipelines/blob/master/sdk/python/kfp/v2/components/types/artifact_types.py) such as `Dataset`, `Model`, `Metrics`, etc. All artifacts are saved by Kubeflow to a storage server. For local deployments, the default will be a [MinIO](https://min.io/) server. The [path](https://github.com/kubeflow/pipelines/blob/master/sdk/python/kfp/v2/components/types/artifact_types.py#L51) property fetches the location where this artifact will be saved and that's what you did above when you called `df.to_csv(output_csv.path, index=False)`\n",
        "\n",
        "The inputs and outputs are declared as parameters in the function definition. As you can see in the code we defined a `url` parameter with a `str` type and an `output_csv` parameter with an `Output[Dataset]` type.\n",
        "\n",
        "Lastly, you'll need to use the `component` decorator to specify that this is a Kubeflow Pipeline component. The [documentation](https://github.com/kubeflow/pipelines/blob/master/sdk/python/kfp/v2/components/component_decorator.py#L23) shows several parameters you can set and two of them are used in the code above. As the name suggests, the `packages_to_install` argument declares any extra packages outside the base image that is needed to run your code. As of writing, the default base image is `python:3.7` so you'll need `pandas` and `openpyxl` to load the Excel file.\n",
        "\n",
        "The `output_component_file` is an output file that contains the specification for your newly built component. You should see it in the Colab file explorer once you've ran the cell above. You'll see your code there and other settings that pertain to your component. You can use this file when building other pipelines if necessary. You don't have to redo your code again in a notebook in your next project as long as you have this YAML file. You can also pass this to your team members or use it in another machine. Kubeflow also hosts other reusable modules in their repo [here](https://github.com/kubeflow/pipelines/tree/master/components). For example, if you want a file downloader component in one of your projects, you can load the component from that repo using the [load_component_from_url](https://kubeflow-pipelines.readthedocs.io/en/latest/source/kfp.components.html#kfp.components.ComponentStore.load_component_from_url) function as shown below. The [YAML file](https://raw.githubusercontent.com/kubeflow/pipelines/master/components/web/Download/component-sdk-v2.yaml) of that component should tell you the inputs and outputs so you can use it accordingly.\n",
        "\n",
        "```\n",
        "web_downloader_op = kfp.components.load_component_from_url(\n",
        "    'https://raw.githubusercontent.com/kubeflow/pipelines/master/components/web/Download/component-sdk-v2.yaml')\n",
        "```"
      ]
    },
    {
      "cell_type": "markdown",
      "metadata": {
        "id": "8sNacAzvh6Ei"
      },
      "source": [
        "Next, you will build the next component in the pipeline. Like in the previous step, you should design it first with inputs and outputs in mind. You know that the input of this component will come from the artifact generated by the `download_data()` function above. To declare input artifacts, you can annotate your parameter with the `Input[Dataset]` data type as shown below. For the outputs, you want to have two: train and test datasets. You can see the implementation below:"
      ]
    },
    {
      "cell_type": "code",
      "execution_count": null,
      "metadata": {
        "id": "zpItc-Ob6pnO"
      },
      "outputs": [],
      "source": [
        "@component(\n",
        "    packages_to_install=[\"pandas\", \"scikit-learn\"],\n",
        "    output_component_file=\"split_data_component.yaml\"\n",
        ")\n",
        "def split_data(input_csv: Input[Dataset], train_csv: Output[Dataset], test_csv: Output[Dataset]):\n",
        "    import pandas as pd\n",
        "    from sklearn.model_selection import train_test_split\n",
        "\n",
        "    df = pd.read_csv(input_csv.path)\n",
        "    train, test = train_test_split(df, test_size=0.2)\n",
        "\n",
        "    train.to_csv(train_csv.path, index=False)\n",
        "    test.to_csv(test_csv.path, index=False)"
      ]
    },
    {
      "cell_type": "markdown",
      "metadata": {
        "id": "9ZM0MDM4qweD"
      },
      "source": [
        "### Building and Running a Pipeline"
      ]
    },
    {
      "cell_type": "markdown",
      "metadata": {
        "id": "JTQVk643lDMo"
      },
      "source": [
        "Now that you have at least two components, you can try building a pipeline just to quickly see how it works. The code is shown below. Basically, you just define a function with the sequence of steps then use the `dsl.pipeline` decorator. Notice in the last line (i.e. `split_data_task`) that to get a particular artifact from a previous step, you will need to use the `outputs` dictionary and use the parameter name as the key."
      ]
    },
    {
      "cell_type": "code",
      "execution_count": null,
      "metadata": {
        "id": "wZ-U_xsbLOIH"
      },
      "outputs": [],
      "source": [
        "@dsl.pipeline(\n",
        "    name=\"my-pipeline\",\n",
        ")\n",
        "def my_pipeline(url: str):\n",
        "    download_data_task = download_data(url=url)\n",
        "    split_data_task = split_data(input_csv=download_data_task.outputs['output_csv'])"
      ]
    },
    {
      "cell_type": "markdown",
      "metadata": {
        "id": "OQZH5d2omdos"
      },
      "source": [
        "To generate your pipeline specification file, you need to compile your pipeline function using the [`Compiler`](https://kubeflow-pipelines.readthedocs.io/en/stable/source/kfp.compiler.html#kfp.compiler.Compiler) class as shown below."
      ]
    },
    {
      "cell_type": "code",
      "execution_count": null,
      "metadata": {
        "id": "JKFD7AGgLvHV",
        "colab": {
          "base_uri": "https://localhost:8080/"
        },
        "outputId": "853e5e67-95ff-4221-bb6c-fa1a407096d8"
      },
      "outputs": [
        {
          "output_type": "stream",
          "name": "stderr",
          "text": [
            "/usr/local/lib/python3.11/dist-packages/kfp/compiler/compiler.py:79: UserWarning: V2_COMPATIBLE execution mode is at Beta quality. Some pipeline features may not work as expected.\n",
            "  warnings.warn('V2_COMPATIBLE execution mode is at Beta quality.'\n"
          ]
        }
      ],
      "source": [
        "kfp.compiler.Compiler(mode=kfp.dsl.PipelineExecutionMode.V2_COMPATIBLE).compile(\n",
        "    pipeline_func=my_pipeline,\n",
        "    package_path='pipeline.yaml')"
      ]
    },
    {
      "cell_type": "markdown",
      "metadata": {
        "id": "tfB-1JyInB-s"
      },
      "source": [
        "After running the cell, you'll see a `pipeline.yaml` file in the Colab file explorer. Please download that because it will be needed in the next step.\n",
        "\n",
        "You can run a pipeline programmatically or from the UI. For this exercise, you will do it from the UI and you will see how it is done programmatically in the Qwiklabs later this week.\n",
        "\n",
        "Please go back to the Kubeflow Pipelines UI and click `Upload Pipelines` from the `Pipelines` page.\n",
        "\n",
        "<img src=\"https://github.com/https-deeplearning-ai/machine-learning-engineering-for-production-public/blob/main/course4/week3-ungraded-labs/C4_W3_Lab_1_Intro_to_KFP/img/upload.png?raw=1\" alt=\"upload.png\" width=\"800\">\n",
        "<br>\n",
        "<br>\n",
        "\n",
        "Next, select `Upload a file` and choose the `pipeline.yaml` you downloaded earlier then click `Create`. This will open a screen showing your simple DAG (just two tasks).\n",
        "\n",
        "<img src=\"https://github.com/https-deeplearning-ai/machine-learning-engineering-for-production-public/blob/main/course4/week3-ungraded-labs/C4_W3_Lab_1_Intro_to_KFP/img/dag_kfp.png?raw=1\" alt=\"dag_kfp.png\" width=\"640\">\n",
        "<br>\n",
        "<br>\n",
        "\n",
        "Click `Create Run` then scroll to the bottom to input the URL of the Excel file: https://archive.ics.uci.edu/ml/machine-learning-databases/00242/ENB2012_data.xlsx . Then Click `Start`.\n",
        "\n",
        "<img src=\"https://github.com/https-deeplearning-ai/machine-learning-engineering-for-production-public/blob/main/course4/week3-ungraded-labs/C4_W3_Lab_1_Intro_to_KFP/img/url.png?raw=1\" alt=\"url.png\" width=\"640\">\n",
        "<br>\n",
        "<br>\n",
        "\n",
        "Select the topmost entry in the `Runs` page and you should see the progress of your run. You can click on the `download-data` box to see more details about that particular task (i.e. the URL input and the container logs). After it turns green, you should also see the output artifact and you can download it if you want by clicking the minio link.\n",
        "\n",
        "<img src=\"https://github.com/https-deeplearning-ai/machine-learning-engineering-for-production-public/blob/main/course4/week3-ungraded-labs/C4_W3_Lab_1_Intro_to_KFP/img/progress.png?raw=1\" alt=\"progress.png\" width=\"800\">\n",
        "<br>\n",
        "<br>\n",
        "\n",
        "Eventually, both tasks will turn green indicating that the run completed successfully. Nicely done!"
      ]
    },
    {
      "cell_type": "markdown",
      "metadata": {
        "id": "9eBSFSmuq-l7"
      },
      "source": [
        "### Generate the rest of the components"
      ]
    },
    {
      "cell_type": "markdown",
      "metadata": {
        "id": "yQGXOPvms2sW"
      },
      "source": [
        "Now that you've seen a sample workflow, you can build the rest of the components for preprocessing, model training, and model evaluation. The functions will be longer because the task is more complex. Nonetheless, it follows the same principles as before such as declaring inputs and outputs, and specifying the additional packages.\n",
        "\n",
        "In the `eval_model()` function, you'll notice the use of the [`log_metric()`](https://github.com/kubeflow/pipelines/blob/master/sdk/python/kfp/v2/components/types/artifact_types.py#L123) to record the results. You'll see this in the `Visualizations` tab of that task after it has completed."
      ]
    },
    {
      "cell_type": "code",
      "execution_count": null,
      "metadata": {
        "id": "sF6gLo0w6nA4"
      },
      "outputs": [],
      "source": [
        "@component(\n",
        "    packages_to_install=[\"pandas\", \"numpy\"],\n",
        "    output_component_file=\"preprocess_data_component.yaml\"\n",
        ")\n",
        "def preprocess_data(input_train_csv: Input[Dataset], input_test_csv: Input[Dataset],\n",
        "                    output_train_x: Output[Dataset], output_test_x: Output[Dataset],\n",
        "                    output_train_y: Output[Artifact], output_test_y: Output[Artifact]):\n",
        "\n",
        "    import pandas as pd\n",
        "    import numpy as np\n",
        "    import pickle\n",
        "\n",
        "    def format_output(data):\n",
        "        y1 = data.pop('Y1')\n",
        "        y1 = np.array(y1)\n",
        "        y2 = data.pop('Y2')\n",
        "        y2 = np.array(y2)\n",
        "        return y1, y2\n",
        "\n",
        "    def norm(x, train_stats):\n",
        "        return (x - train_stats['mean']) / train_stats['std']\n",
        "\n",
        "    train = pd.read_csv(input_train_csv.path)\n",
        "    test = pd.read_csv(input_test_csv.path)\n",
        "\n",
        "    train_stats = train.describe()\n",
        "\n",
        "    # Get Y1 and Y2 as the 2 outputs and format them as np arrays\n",
        "    train_stats.pop('Y1')\n",
        "    train_stats.pop('Y2')\n",
        "    train_stats = train_stats.transpose()\n",
        "\n",
        "    train_Y = format_output(train)\n",
        "    with open(output_train_y.path, \"wb\") as file:\n",
        "      pickle.dump(train_Y, file)\n",
        "\n",
        "    test_Y = format_output(test)\n",
        "    with open(output_test_y.path, \"wb\") as file:\n",
        "      pickle.dump(test_Y, file)\n",
        "\n",
        "    # Normalize the training and test data\n",
        "    norm_train_X = norm(train, train_stats)\n",
        "    norm_test_X = norm(test, train_stats)\n",
        "\n",
        "    norm_train_X.to_csv(output_train_x.path, index=False)\n",
        "    norm_test_X.to_csv(output_test_x.path, index=False)\n",
        "\n",
        "\n",
        "\n",
        "@component(\n",
        "    packages_to_install=[\"tensorflow\", \"pandas\"],\n",
        "    output_component_file=\"train_model_component.yaml\"\n",
        ")\n",
        "def train_model(input_train_x: Input[Dataset], input_train_y: Input[Artifact],\n",
        "                output_model: Output[Model], output_history: Output[Artifact]):\n",
        "    import pandas as pd\n",
        "    import tensorflow as tf\n",
        "    import pickle\n",
        "\n",
        "    from tensorflow.keras.models import Model\n",
        "    from tensorflow.keras.layers import Dense, Input\n",
        "\n",
        "    norm_train_X = pd.read_csv(input_train_x.path)\n",
        "\n",
        "    with open(input_train_y.path, \"rb\") as file:\n",
        "        train_Y = pickle.load(file)\n",
        "\n",
        "    def model_builder(train_X):\n",
        "\n",
        "      # Define model layers.\n",
        "      input_layer = Input(shape=(len(train_X.columns),))\n",
        "      first_dense = Dense(units='128', activation='relu')(input_layer)\n",
        "      second_dense = Dense(units='128', activation='relu')(first_dense)\n",
        "\n",
        "      # Y1 output will be fed directly from the second dense\n",
        "      y1_output = Dense(units='1', name='y1_output')(second_dense)\n",
        "      third_dense = Dense(units='64', activation='relu')(second_dense)\n",
        "\n",
        "      # Y2 output will come via the third dense\n",
        "      y2_output = Dense(units='1', name='y2_output')(third_dense)\n",
        "\n",
        "      # Define the model with the input layer and a list of output layers\n",
        "      model = Model(inputs=input_layer, outputs=[y1_output, y2_output])\n",
        "\n",
        "      print(model.summary())\n",
        "\n",
        "      return model\n",
        "\n",
        "    model = model_builder(norm_train_X)\n",
        "\n",
        "    # Specify the optimizer, and compile the model with loss functions for both outputs\n",
        "    optimizer = tf.keras.optimizers.SGD(learning_rate=0.001)\n",
        "    model.compile(optimizer=optimizer,\n",
        "                  loss={'y1_output': 'mse', 'y2_output': 'mse'},\n",
        "                  metrics={'y1_output': tf.keras.metrics.RootMeanSquaredError(),\n",
        "                          'y2_output': tf.keras.metrics.RootMeanSquaredError()})\n",
        "    # Train the model for 500 epochs\n",
        "    history = model.fit(norm_train_X, train_Y, epochs=100, batch_size=10)\n",
        "    model.save(output_model.path)\n",
        "\n",
        "    with open(output_history.path, \"wb\") as file:\n",
        "        train_Y = pickle.dump(history.history, file)\n",
        "\n",
        "\n",
        "\n",
        "@component(\n",
        "    packages_to_install=[\"tensorflow\", \"pandas\"],\n",
        "    output_component_file=\"eval_model_component.yaml\"\n",
        ")\n",
        "def eval_model(input_model: Input[Model], input_history: Input[Artifact],\n",
        "               input_test_x: Input[Dataset], input_test_y: Input[Artifact],\n",
        "               MLPipeline_Metrics: Output[Metrics]):\n",
        "    import pandas as pd\n",
        "    import tensorflow as tf\n",
        "    import pickle\n",
        "\n",
        "    model = tf.keras.models.load_model(input_model.path)\n",
        "\n",
        "    norm_test_X = pd.read_csv(input_test_x.path)\n",
        "\n",
        "    with open(input_test_y.path, \"rb\") as file:\n",
        "        test_Y = pickle.load(file)\n",
        "\n",
        "    # Test the model and print loss and mse for both outputs\n",
        "    loss, Y1_loss, Y2_loss, Y1_rmse, Y2_rmse = model.evaluate(x=norm_test_X, y=test_Y)\n",
        "    print(\"Loss = {}, Y1_loss = {}, Y1_mse = {}, Y2_loss = {}, Y2_mse = {}\".format(loss, Y1_loss, Y1_rmse, Y2_loss, Y2_rmse))\n",
        "\n",
        "    MLPipeline_Metrics.log_metric(\"loss\", loss)\n",
        "    MLPipeline_Metrics.log_metric(\"Y1_loss\", Y1_loss)\n",
        "    MLPipeline_Metrics.log_metric(\"Y2_loss\", Y2_loss)\n",
        "    MLPipeline_Metrics.log_metric(\"Y1_rmse\", Y1_rmse)\n",
        "    MLPipeline_Metrics.log_metric(\"Y2_rmse\", Y2_rmse)"
      ]
    },
    {
      "cell_type": "markdown",
      "metadata": {
        "id": "JEsO8UYurD1k"
      },
      "source": [
        "### Build and run the complete pipeline"
      ]
    },
    {
      "cell_type": "markdown",
      "metadata": {
        "id": "7XqEnO97vIwY"
      },
      "source": [
        "You can then build and run the entire pipeline as you did earlier. It will take around 20 minutes for all the tasks to complete and you can see the `Logs` tab of each task to see how it's going. For instance, you can see there the model training epochs as you normally see in a notebook environment."
      ]
    },
    {
      "cell_type": "code",
      "execution_count": null,
      "metadata": {
        "id": "HqD895So2-h2"
      },
      "outputs": [],
      "source": [
        "# Define a pipeline and create a task from a component:\n",
        "@dsl.pipeline(\n",
        "    name=\"my-pipeline\",\n",
        ")\n",
        "def my_pipeline(url: str):\n",
        "\n",
        "    download_data_task = download_data(url=url)\n",
        "\n",
        "    split_data_task = split_data(input_csv=download_data_task.outputs['output_csv'])\n",
        "\n",
        "    preprocess_data_task = preprocess_data(input_train_csv=split_data_task.outputs['train_csv'],\n",
        "                                           input_test_csv=split_data_task.outputs['test_csv'])\n",
        "\n",
        "    train_model_task = train_model(input_train_x=preprocess_data_task.outputs[\"output_train_x\"],\n",
        "                                   input_train_y=preprocess_data_task.outputs[\"output_train_y\"])\n",
        "\n",
        "    eval_model_task = eval_model(input_model=train_model_task.outputs[\"output_model\"],\n",
        "                                 input_history=train_model_task.outputs[\"output_history\"],\n",
        "                                   input_test_x=preprocess_data_task.outputs[\"output_test_x\"],\n",
        "                                   input_test_y=preprocess_data_task.outputs[\"output_test_y\"])"
      ]
    },
    {
      "cell_type": "code",
      "execution_count": null,
      "metadata": {
        "id": "UNPq9D263A3d"
      },
      "outputs": [],
      "source": [
        "kfp.compiler.Compiler(mode=kfp.dsl.PipelineExecutionMode.V2_COMPATIBLE).compile(\n",
        "    pipeline_func=my_pipeline,\n",
        "    package_path='pipeline.yaml')"
      ]
    },
    {
      "cell_type": "markdown",
      "metadata": {
        "id": "Kg0-GihkU4HU"
      },
      "source": [
        "After you've uploaded and ran the entire pipeline, you should see all green boxes and the training metrics in the `Visualizations` tab of the `eval-model` task.\n",
        "\n",
        "<img src='https://github.com/https-deeplearning-ai/machine-learning-engineering-for-production-public/blob/main/course4/week3-ungraded-labs/C4_W3_Lab_1_Intro_to_KFP/img/complete_pipeline.png?raw=1' alt=\"./img/complete_pipeline.png\" width=640>"
      ]
    },
    {
      "cell_type": "markdown",
      "metadata": {
        "id": "9bs8p5KZGCgI"
      },
      "source": [
        "## Tear Down\n",
        "\n",
        "If you're done experimenting with the software and want to free up resources, you can execute the commands below to delete Kubeflow Pipelines from your system:\n",
        "\n",
        "```\n",
        "export PIPELINE_VERSION=1.8.5\n",
        "kubectl delete -k \"github.com/kubeflow/pipelines/manifests/kustomize/env/platform-agnostic-pns?ref=$PIPELINE_VERSION\"\n",
        "kubectl delete -k \"github.com/kubeflow/pipelines/manifests/kustomize/cluster-scoped-resources?ref=$PIPELINE_VERSION\"\n",
        "```\n",
        "\n",
        "You can delete the cluster for `kind` with the following:\n",
        "```\n",
        "kind delete cluster\n",
        "```"
      ]
    },
    {
      "cell_type": "markdown",
      "metadata": {
        "id": "PUFoY2iqIHyW"
      },
      "source": [
        "## Wrap Up\n",
        "\n",
        "This lab demonstrated how you can use Kubeflow Pipelines to build and orchestrate your ML workflows. Having automated, shareable, and modular pipelines is a very useful feature in production deployments so you and your team can monitor and maintain your system more effectively. In the first Qwiklabs this week, you will use Kubeflow Pipelines as part of Vertex AI. You'll see more features implemented there such as integration with Tensorboard and more output visualizations from each component.\n",
        "\n",
        "Great job and on to the next part of the course!"
      ]
    }
  ],
  "metadata": {
    "colab": {
      "provenance": [],
      "include_colab_link": true
    },
    "kernelspec": {
      "display_name": "Python 3",
      "name": "python3"
    },
    "language_info": {
      "codemirror_mode": {
        "name": "ipython",
        "version": 3
      },
      "file_extension": ".py",
      "mimetype": "text/x-python",
      "name": "python",
      "nbconvert_exporter": "python",
      "pygments_lexer": "ipython3",
      "version": "3.9.13"
    }
  },
  "nbformat": 4,
  "nbformat_minor": 0
}
